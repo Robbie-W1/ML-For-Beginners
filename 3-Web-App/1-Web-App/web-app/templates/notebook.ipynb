{
 "metadata": {
  "language_info": {
   "codemirror_mode": {
    "name": "ipython",
    "version": 3
   },
   "file_extension": ".py",
   "mimetype": "text/x-python",
   "name": "python",
   "nbconvert_exporter": "python",
   "pygments_lexer": "ipython3",
   "version": "3.9.1-final"
  },
  "orig_nbformat": 2,
  "kernelspec": {
   "name": "python39164bitcbdf1bbf6d0547a2abdb665663ed1f56",
   "display_name": "Python 3.9.1 64-bit"
  }
 },
 "nbformat": 4,
 "nbformat_minor": 2,
 "cells": [
  {
   "cell_type": "code",
   "execution_count": 53,
   "metadata": {},
   "outputs": [
    {
     "output_type": "execute_result",
     "data": {
      "text/plain": "           datetime                  city  ...   latitude   longitude\n0  10/10/1949 20:30            san marcos  ...  29.883056  -97.941111\n1  10/10/1949 21:00          lackland afb  ...  29.384210  -98.581082\n2  10/10/1955 17:00  chester (uk/england)  ...  53.200000   -2.916667\n3  10/10/1956 21:00                  edna  ...  28.978333  -96.645833\n4  10/10/1960 20:00               kaneohe  ...  21.418056 -157.803611\n\n[5 rows x 11 columns]",
      "text/html": "<div>\n<style scoped>\n    .dataframe tbody tr th:only-of-type {\n        vertical-align: middle;\n    }\n\n    .dataframe tbody tr th {\n        vertical-align: top;\n    }\n\n    .dataframe thead th {\n        text-align: right;\n    }\n</style>\n<table border=\"1\" class=\"dataframe\">\n  <thead>\n    <tr style=\"text-align: right;\">\n      <th></th>\n      <th>datetime</th>\n      <th>city</th>\n      <th>state</th>\n      <th>country</th>\n      <th>shape</th>\n      <th>duration (seconds)</th>\n      <th>duration (hours/min)</th>\n      <th>comments</th>\n      <th>date posted</th>\n      <th>latitude</th>\n      <th>longitude</th>\n    </tr>\n  </thead>\n  <tbody>\n    <tr>\n      <th>0</th>\n      <td>10/10/1949 20:30</td>\n      <td>san marcos</td>\n      <td>tx</td>\n      <td>us</td>\n      <td>cylinder</td>\n      <td>2700.0</td>\n      <td>45 minutes</td>\n      <td>This event took place in early fall around 194...</td>\n      <td>4/27/2004</td>\n      <td>29.883056</td>\n      <td>-97.941111</td>\n    </tr>\n    <tr>\n      <th>1</th>\n      <td>10/10/1949 21:00</td>\n      <td>lackland afb</td>\n      <td>tx</td>\n      <td>NaN</td>\n      <td>light</td>\n      <td>7200.0</td>\n      <td>1-2 hrs</td>\n      <td>1949 Lackland AFB&amp;#44 TX.  Lights racing acros...</td>\n      <td>12/16/2005</td>\n      <td>29.384210</td>\n      <td>-98.581082</td>\n    </tr>\n    <tr>\n      <th>2</th>\n      <td>10/10/1955 17:00</td>\n      <td>chester (uk/england)</td>\n      <td>NaN</td>\n      <td>gb</td>\n      <td>circle</td>\n      <td>20.0</td>\n      <td>20 seconds</td>\n      <td>Green/Orange circular disc over Chester&amp;#44 En...</td>\n      <td>1/21/2008</td>\n      <td>53.200000</td>\n      <td>-2.916667</td>\n    </tr>\n    <tr>\n      <th>3</th>\n      <td>10/10/1956 21:00</td>\n      <td>edna</td>\n      <td>tx</td>\n      <td>us</td>\n      <td>circle</td>\n      <td>20.0</td>\n      <td>1/2 hour</td>\n      <td>My older brother and twin sister were leaving ...</td>\n      <td>1/17/2004</td>\n      <td>28.978333</td>\n      <td>-96.645833</td>\n    </tr>\n    <tr>\n      <th>4</th>\n      <td>10/10/1960 20:00</td>\n      <td>kaneohe</td>\n      <td>hi</td>\n      <td>us</td>\n      <td>light</td>\n      <td>900.0</td>\n      <td>15 minutes</td>\n      <td>AS a Marine 1st Lt. flying an FJ4B fighter/att...</td>\n      <td>1/22/2004</td>\n      <td>21.418056</td>\n      <td>-157.803611</td>\n    </tr>\n  </tbody>\n</table>\n</div>"
     },
     "metadata": {},
     "execution_count": 53
    }
   ],
   "source": [
    "import pandas as pd\n",
    "import numpy as np\n",
    "\n",
    "ufos = pd.read_csv('./data/ufos.csv')\n",
    "ufos.head()"
   ]
  },
  {
   "cell_type": "code",
   "execution_count": 54,
   "metadata": {},
   "outputs": [
    {
     "output_type": "execute_result",
     "data": {
      "text/plain": "array(['us', nan, 'gb', 'ca', 'au', 'de'], dtype=object)"
     },
     "metadata": {},
     "execution_count": 54
    }
   ],
   "source": [
    "ufos = pd.DataFrame({'Seconds': ufos['duration (seconds)'], 'Country': ufos['country'], 'Latitude': ufos['latitude'], 'Longitude': ufos['longitude']})\n",
    "\n",
    "ufos.Country.unique()"
   ]
  },
  {
   "cell_type": "code",
   "execution_count": 55,
   "metadata": {
    "tags": []
   },
   "outputs": [
    {
     "output_type": "stream",
     "name": "stdout",
     "text": "<class 'pandas.core.frame.DataFrame'>\nInt64Index: 25863 entries, 2 to 80330\nData columns (total 4 columns):\n #   Column     Non-Null Count  Dtype  \n---  ------     --------------  -----  \n 0   Seconds    25863 non-null  float64\n 1   Country    25863 non-null  object \n 2   Latitude   25863 non-null  float64\n 3   Longitude  25863 non-null  float64\ndtypes: float64(3), object(1)\nmemory usage: 1010.3+ KB\n"
    }
   ],
   "source": [
    "ufos.dropna(inplace=True)\n",
    "\n",
    "ufos = ufos[(ufos['Seconds'] >= 1) & (ufos['Seconds'] <= 60)]\n",
    "\n",
    "ufos.info()"
   ]
  },
  {
   "cell_type": "code",
   "execution_count": 56,
   "metadata": {},
   "outputs": [
    {
     "output_type": "execute_result",
     "data": {
      "text/plain": "    Seconds  Country   Latitude   Longitude\n2      20.0        3  53.200000   -2.916667\n3      20.0        4  28.978333  -96.645833\n14     30.0        4  35.823889  -80.253611\n23     60.0        4  45.582778 -122.352222\n24      3.0        3  51.783333   -0.783333",
      "text/html": "<div>\n<style scoped>\n    .dataframe tbody tr th:only-of-type {\n        vertical-align: middle;\n    }\n\n    .dataframe tbody tr th {\n        vertical-align: top;\n    }\n\n    .dataframe thead th {\n        text-align: right;\n    }\n</style>\n<table border=\"1\" class=\"dataframe\">\n  <thead>\n    <tr style=\"text-align: right;\">\n      <th></th>\n      <th>Seconds</th>\n      <th>Country</th>\n      <th>Latitude</th>\n      <th>Longitude</th>\n    </tr>\n  </thead>\n  <tbody>\n    <tr>\n      <th>2</th>\n      <td>20.0</td>\n      <td>3</td>\n      <td>53.200000</td>\n      <td>-2.916667</td>\n    </tr>\n    <tr>\n      <th>3</th>\n      <td>20.0</td>\n      <td>4</td>\n      <td>28.978333</td>\n      <td>-96.645833</td>\n    </tr>\n    <tr>\n      <th>14</th>\n      <td>30.0</td>\n      <td>4</td>\n      <td>35.823889</td>\n      <td>-80.253611</td>\n    </tr>\n    <tr>\n      <th>23</th>\n      <td>60.0</td>\n      <td>4</td>\n      <td>45.582778</td>\n      <td>-122.352222</td>\n    </tr>\n    <tr>\n      <th>24</th>\n      <td>3.0</td>\n      <td>3</td>\n      <td>51.783333</td>\n      <td>-0.783333</td>\n    </tr>\n  </tbody>\n</table>\n</div>"
     },
     "metadata": {},
     "execution_count": 56
    }
   ],
   "source": [
    "from sklearn.preprocessing import LabelEncoder\n",
    "\n",
    "ufos['Country'] = LabelEncoder().fit_transform(ufos['Country'])\n",
    "\n",
    "ufos.head()"
   ]
  },
  {
   "cell_type": "code",
   "execution_count": 57,
   "metadata": {},
   "outputs": [],
   "source": [
    "from sklearn.model_selection import train_test_split\n",
    "\n",
    "Selected_features = ['Seconds', 'Latitude', 'Longitude']\n",
    "\n",
    "X = ufos[Selected_features]\n",
    "y = ufos['Country']\n",
    "\n",
    "X_train, X_test, y_train, y_test = train_test_split(X, y, test_size=0.2, random_state=0)"
   ]
  },
  {
   "cell_type": "code",
   "execution_count": 60,
   "metadata": {
    "tags": []
   },
   "outputs": [
    {
     "output_type": "stream",
     "name": "stdout",
     "text": "precision    recall  f1-score   support\n\n           0       1.00      1.00      1.00        41\n           1       0.83      0.23      0.36       250\n           2       1.00      1.00      1.00         8\n           3       1.00      1.00      1.00       131\n           4       0.96      1.00      0.98      4743\n\n    accuracy                           0.96      5173\n   macro avg       0.96      0.85      0.87      5173\nweighted avg       0.96      0.96      0.95      5173\n\nPredicted labels: [4 4 4 ... 3 4 4]\nAccuracy: 0.961\n"
    }
   ],
   "source": [
    "from sklearn.metrics import accuracy_score, classification_report\n",
    "from sklearn.linear_model import LogisticRegression\n",
    "\n",
    "model = LogisticRegression()\n",
    "model.fit(X_train, y_train)\n",
    "predictions = model.predict(X_test)\n",
    "\n",
    "print(classification_report(y_test, predictions))\n",
    "print(f\"Predicted labels: {predictions}\")\n",
    "print(f\"Accuracy: {accuracy_score(y_test, predictions) :.3f}\")"
   ]
  },
  {
   "cell_type": "code",
   "execution_count": 61,
   "metadata": {
    "tags": []
   },
   "outputs": [
    {
     "output_type": "stream",
     "name": "stdout",
     "text": "[1]\n"
    }
   ],
   "source": [
    "import pickle\n",
    "\n",
    "model_filename = 'ufo_model.pkl'\n",
    "pickle.dump(model, open(model_filename, 'wb'))\n",
    "\n",
    "model = pickle.load(open('ufo_model.pkl', 'rb'))\n",
    "print(model.predict([[50, 44, -12]]))"
   ]
  },
  {
   "cell_type": "code",
   "execution_count": null,
   "metadata": {},
   "outputs": [],
   "source": []
  }
 ]
}